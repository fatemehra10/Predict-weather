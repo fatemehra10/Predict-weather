{
  "cells": [
    {
      "cell_type": "markdown",
      "metadata": {
        "id": "view-in-github",
        "colab_type": "text"
      },
      "source": [
        "<a href=\"https://colab.research.google.com/github/fatemehra10/weather-crawl-/blob/main/forecast.ipynb\" target=\"_parent\"><img src=\"https://colab.research.google.com/assets/colab-badge.svg\" alt=\"Open In Colab\"/></a>"
      ]
    },
    {
      "cell_type": "code",
      "execution_count": 47,
      "metadata": {
        "id": "JZ1vfp5Qah2Z"
      },
      "outputs": [],
      "source": [
        "# import necessary library\n",
        "import numpy as np\n",
        "import pandas as pd\n",
        "import matplotlib.pyplot as plt\n",
        "import seaborn as sns\n",
        "from google.colab import drive\n",
        "from google.colab import files\n",
        "from sklearn.neural_network import MLPClassifier\n",
        "from imblearn.over_sampling import SMOTE\n",
        "from sklearn.preprocessing import MinMaxScaler,StandardScaler\n",
        "from sklearn.model_selection import train_test_split\n",
        "from sklearn.decomposition import PCA\n",
        "from sklearn.preprocessing import LabelEncoder\n",
        "from sklearn.tree import DecisionTreeClassifier\n",
        "from sklearn.ensemble import RandomForestClassifier, RandomForestRegressor\n",
        "from sklearn.linear_model import LogisticRegression\n",
        "from sklearn.svm import SVC\n",
        "from sklearn.neighbors import KNeighborsClassifier\n",
        "from sklearn.linear_model import SGDClassifier\n",
        "from sklearn.naive_bayes import GaussianNB\n",
        "from sklearn.neural_network import MLPClassifier\n",
        "from sklearn.model_selection import train_test_split\n",
        "from sklearn.metrics import confusion_matrix, accuracy_score, jaccard_score, recall_score, f1_score, ConfusionMatrixDisplay"
      ]
    },
    {
      "cell_type": "code",
      "source": [
        "drive.mount('/content/drive')\n",
        "main_path = '/content/drive/My Drive/Da final/final_weathers.csv'"
      ],
      "metadata": {
        "id": "yIXrPd7_Y-Yk",
        "colab": {
          "base_uri": "https://localhost:8080/"
        },
        "outputId": "0ab63adb-3ef1-4241-ef33-5803b08ce9a2"
      },
      "execution_count": 4,
      "outputs": [
        {
          "output_type": "stream",
          "name": "stdout",
          "text": [
            "Drive already mounted at /content/drive; to attempt to forcibly remount, call drive.mount(\"/content/drive\", force_remount=True).\n"
          ]
        }
      ]
    },
    {
      "cell_type": "markdown",
      "metadata": {
        "id": "r1Vctm9ncHun"
      },
      "source": [
        "# Preprocessing"
      ]
    },
    {
      "cell_type": "code",
      "execution_count": 5,
      "metadata": {
        "id": "Am1s1N0Na1kJ",
        "colab": {
          "base_uri": "https://localhost:8080/",
          "height": 823
        },
        "outputId": "b8dc311c-048c-44c7-fb79-549b03cd5206"
      },
      "outputs": [
        {
          "output_type": "execute_result",
          "data": {
            "text/plain": [
              "          time             date     city  temp_mean  temp_max  temp_min  wind  \\\n",
              "0      morning  1 December 2022   Shiraz       6.33       9.0       4.0  0.00   \n",
              "1       midday  1 December 2022   Shiraz      18.33      21.0      15.0  2.00   \n",
              "2        night  1 December 2022   Shiraz      17.00      17.0      17.0  7.00   \n",
              "3      morning  2 December 2022   Shiraz       6.33       9.0       4.0  0.00   \n",
              "4       midday  2 December 2022   Shiraz      17.33      19.0      14.0  0.00   \n",
              "...        ...              ...      ...        ...       ...       ...   ...   \n",
              "22947   midday  30 January 2020  Mashhad       7.62      10.0       2.0  8.56   \n",
              "22948    night  30 January 2020  Mashhad       6.20       9.0       3.0  8.47   \n",
              "22949  morning  31 January 2020  Mashhad       0.44       1.0      -1.0  1.31   \n",
              "22950   midday  31 January 2020  Mashhad       9.31      13.0       3.0  5.88   \n",
              "22951    night  31 January 2020  Mashhad       7.40      12.0       5.0  7.13   \n",
              "\n",
              "       wind_direction  humidity  barometer  visibility         weather  \n",
              "0                0.00      0.00      66.33     1019.67           Clear  \n",
              "1                2.00     40.00      31.33     1017.33  Passing clouds  \n",
              "2                7.00    280.00      32.00     1018.00            Haze  \n",
              "3                0.00      0.00      67.00     1018.33           Clear  \n",
              "4                0.00      0.00      37.00     1015.00           Sunny  \n",
              "...               ...       ...        ...         ...             ...  \n",
              "22947            8.56    131.25      47.31     1015.50    Partly sunny  \n",
              "22948            8.47    170.67      59.87     1016.33  Passing clouds  \n",
              "22949            1.31     35.62      89.06     1016.25           Clear  \n",
              "22950            5.88     48.12      48.25     1015.44           Sunny  \n",
              "22951            7.13    176.67      48.60     1013.20           Clear  \n",
              "\n",
              "[22952 rows x 12 columns]"
            ],
            "text/html": [
              "\n",
              "  <div id=\"df-ee7f9042-f359-4f82-bdea-f4b4a5632b11\">\n",
              "    <div class=\"colab-df-container\">\n",
              "      <div>\n",
              "<style scoped>\n",
              "    .dataframe tbody tr th:only-of-type {\n",
              "        vertical-align: middle;\n",
              "    }\n",
              "\n",
              "    .dataframe tbody tr th {\n",
              "        vertical-align: top;\n",
              "    }\n",
              "\n",
              "    .dataframe thead th {\n",
              "        text-align: right;\n",
              "    }\n",
              "</style>\n",
              "<table border=\"1\" class=\"dataframe\">\n",
              "  <thead>\n",
              "    <tr style=\"text-align: right;\">\n",
              "      <th></th>\n",
              "      <th>time</th>\n",
              "      <th>date</th>\n",
              "      <th>city</th>\n",
              "      <th>temp_mean</th>\n",
              "      <th>temp_max</th>\n",
              "      <th>temp_min</th>\n",
              "      <th>wind</th>\n",
              "      <th>wind_direction</th>\n",
              "      <th>humidity</th>\n",
              "      <th>barometer</th>\n",
              "      <th>visibility</th>\n",
              "      <th>weather</th>\n",
              "    </tr>\n",
              "  </thead>\n",
              "  <tbody>\n",
              "    <tr>\n",
              "      <th>0</th>\n",
              "      <td>morning</td>\n",
              "      <td>1 December 2022</td>\n",
              "      <td>Shiraz</td>\n",
              "      <td>6.33</td>\n",
              "      <td>9.0</td>\n",
              "      <td>4.0</td>\n",
              "      <td>0.00</td>\n",
              "      <td>0.00</td>\n",
              "      <td>0.00</td>\n",
              "      <td>66.33</td>\n",
              "      <td>1019.67</td>\n",
              "      <td>Clear</td>\n",
              "    </tr>\n",
              "    <tr>\n",
              "      <th>1</th>\n",
              "      <td>midday</td>\n",
              "      <td>1 December 2022</td>\n",
              "      <td>Shiraz</td>\n",
              "      <td>18.33</td>\n",
              "      <td>21.0</td>\n",
              "      <td>15.0</td>\n",
              "      <td>2.00</td>\n",
              "      <td>2.00</td>\n",
              "      <td>40.00</td>\n",
              "      <td>31.33</td>\n",
              "      <td>1017.33</td>\n",
              "      <td>Passing clouds</td>\n",
              "    </tr>\n",
              "    <tr>\n",
              "      <th>2</th>\n",
              "      <td>night</td>\n",
              "      <td>1 December 2022</td>\n",
              "      <td>Shiraz</td>\n",
              "      <td>17.00</td>\n",
              "      <td>17.0</td>\n",
              "      <td>17.0</td>\n",
              "      <td>7.00</td>\n",
              "      <td>7.00</td>\n",
              "      <td>280.00</td>\n",
              "      <td>32.00</td>\n",
              "      <td>1018.00</td>\n",
              "      <td>Haze</td>\n",
              "    </tr>\n",
              "    <tr>\n",
              "      <th>3</th>\n",
              "      <td>morning</td>\n",
              "      <td>2 December 2022</td>\n",
              "      <td>Shiraz</td>\n",
              "      <td>6.33</td>\n",
              "      <td>9.0</td>\n",
              "      <td>4.0</td>\n",
              "      <td>0.00</td>\n",
              "      <td>0.00</td>\n",
              "      <td>0.00</td>\n",
              "      <td>67.00</td>\n",
              "      <td>1018.33</td>\n",
              "      <td>Clear</td>\n",
              "    </tr>\n",
              "    <tr>\n",
              "      <th>4</th>\n",
              "      <td>midday</td>\n",
              "      <td>2 December 2022</td>\n",
              "      <td>Shiraz</td>\n",
              "      <td>17.33</td>\n",
              "      <td>19.0</td>\n",
              "      <td>14.0</td>\n",
              "      <td>0.00</td>\n",
              "      <td>0.00</td>\n",
              "      <td>0.00</td>\n",
              "      <td>37.00</td>\n",
              "      <td>1015.00</td>\n",
              "      <td>Sunny</td>\n",
              "    </tr>\n",
              "    <tr>\n",
              "      <th>...</th>\n",
              "      <td>...</td>\n",
              "      <td>...</td>\n",
              "      <td>...</td>\n",
              "      <td>...</td>\n",
              "      <td>...</td>\n",
              "      <td>...</td>\n",
              "      <td>...</td>\n",
              "      <td>...</td>\n",
              "      <td>...</td>\n",
              "      <td>...</td>\n",
              "      <td>...</td>\n",
              "      <td>...</td>\n",
              "    </tr>\n",
              "    <tr>\n",
              "      <th>22947</th>\n",
              "      <td>midday</td>\n",
              "      <td>30 January 2020</td>\n",
              "      <td>Mashhad</td>\n",
              "      <td>7.62</td>\n",
              "      <td>10.0</td>\n",
              "      <td>2.0</td>\n",
              "      <td>8.56</td>\n",
              "      <td>8.56</td>\n",
              "      <td>131.25</td>\n",
              "      <td>47.31</td>\n",
              "      <td>1015.50</td>\n",
              "      <td>Partly sunny</td>\n",
              "    </tr>\n",
              "    <tr>\n",
              "      <th>22948</th>\n",
              "      <td>night</td>\n",
              "      <td>30 January 2020</td>\n",
              "      <td>Mashhad</td>\n",
              "      <td>6.20</td>\n",
              "      <td>9.0</td>\n",
              "      <td>3.0</td>\n",
              "      <td>8.47</td>\n",
              "      <td>8.47</td>\n",
              "      <td>170.67</td>\n",
              "      <td>59.87</td>\n",
              "      <td>1016.33</td>\n",
              "      <td>Passing clouds</td>\n",
              "    </tr>\n",
              "    <tr>\n",
              "      <th>22949</th>\n",
              "      <td>morning</td>\n",
              "      <td>31 January 2020</td>\n",
              "      <td>Mashhad</td>\n",
              "      <td>0.44</td>\n",
              "      <td>1.0</td>\n",
              "      <td>-1.0</td>\n",
              "      <td>1.31</td>\n",
              "      <td>1.31</td>\n",
              "      <td>35.62</td>\n",
              "      <td>89.06</td>\n",
              "      <td>1016.25</td>\n",
              "      <td>Clear</td>\n",
              "    </tr>\n",
              "    <tr>\n",
              "      <th>22950</th>\n",
              "      <td>midday</td>\n",
              "      <td>31 January 2020</td>\n",
              "      <td>Mashhad</td>\n",
              "      <td>9.31</td>\n",
              "      <td>13.0</td>\n",
              "      <td>3.0</td>\n",
              "      <td>5.88</td>\n",
              "      <td>5.88</td>\n",
              "      <td>48.12</td>\n",
              "      <td>48.25</td>\n",
              "      <td>1015.44</td>\n",
              "      <td>Sunny</td>\n",
              "    </tr>\n",
              "    <tr>\n",
              "      <th>22951</th>\n",
              "      <td>night</td>\n",
              "      <td>31 January 2020</td>\n",
              "      <td>Mashhad</td>\n",
              "      <td>7.40</td>\n",
              "      <td>12.0</td>\n",
              "      <td>5.0</td>\n",
              "      <td>7.13</td>\n",
              "      <td>7.13</td>\n",
              "      <td>176.67</td>\n",
              "      <td>48.60</td>\n",
              "      <td>1013.20</td>\n",
              "      <td>Clear</td>\n",
              "    </tr>\n",
              "  </tbody>\n",
              "</table>\n",
              "<p>22952 rows × 12 columns</p>\n",
              "</div>\n",
              "      <button class=\"colab-df-convert\" onclick=\"convertToInteractive('df-ee7f9042-f359-4f82-bdea-f4b4a5632b11')\"\n",
              "              title=\"Convert this dataframe to an interactive table.\"\n",
              "              style=\"display:none;\">\n",
              "        \n",
              "  <svg xmlns=\"http://www.w3.org/2000/svg\" height=\"24px\"viewBox=\"0 0 24 24\"\n",
              "       width=\"24px\">\n",
              "    <path d=\"M0 0h24v24H0V0z\" fill=\"none\"/>\n",
              "    <path d=\"M18.56 5.44l.94 2.06.94-2.06 2.06-.94-2.06-.94-.94-2.06-.94 2.06-2.06.94zm-11 1L8.5 8.5l.94-2.06 2.06-.94-2.06-.94L8.5 2.5l-.94 2.06-2.06.94zm10 10l.94 2.06.94-2.06 2.06-.94-2.06-.94-.94-2.06-.94 2.06-2.06.94z\"/><path d=\"M17.41 7.96l-1.37-1.37c-.4-.4-.92-.59-1.43-.59-.52 0-1.04.2-1.43.59L10.3 9.45l-7.72 7.72c-.78.78-.78 2.05 0 2.83L4 21.41c.39.39.9.59 1.41.59.51 0 1.02-.2 1.41-.59l7.78-7.78 2.81-2.81c.8-.78.8-2.07 0-2.86zM5.41 20L4 18.59l7.72-7.72 1.47 1.35L5.41 20z\"/>\n",
              "  </svg>\n",
              "      </button>\n",
              "      \n",
              "  <style>\n",
              "    .colab-df-container {\n",
              "      display:flex;\n",
              "      flex-wrap:wrap;\n",
              "      gap: 12px;\n",
              "    }\n",
              "\n",
              "    .colab-df-convert {\n",
              "      background-color: #E8F0FE;\n",
              "      border: none;\n",
              "      border-radius: 50%;\n",
              "      cursor: pointer;\n",
              "      display: none;\n",
              "      fill: #1967D2;\n",
              "      height: 32px;\n",
              "      padding: 0 0 0 0;\n",
              "      width: 32px;\n",
              "    }\n",
              "\n",
              "    .colab-df-convert:hover {\n",
              "      background-color: #E2EBFA;\n",
              "      box-shadow: 0px 1px 2px rgba(60, 64, 67, 0.3), 0px 1px 3px 1px rgba(60, 64, 67, 0.15);\n",
              "      fill: #174EA6;\n",
              "    }\n",
              "\n",
              "    [theme=dark] .colab-df-convert {\n",
              "      background-color: #3B4455;\n",
              "      fill: #D2E3FC;\n",
              "    }\n",
              "\n",
              "    [theme=dark] .colab-df-convert:hover {\n",
              "      background-color: #434B5C;\n",
              "      box-shadow: 0px 1px 3px 1px rgba(0, 0, 0, 0.15);\n",
              "      filter: drop-shadow(0px 1px 2px rgba(0, 0, 0, 0.3));\n",
              "      fill: #FFFFFF;\n",
              "    }\n",
              "  </style>\n",
              "\n",
              "      <script>\n",
              "        const buttonEl =\n",
              "          document.querySelector('#df-ee7f9042-f359-4f82-bdea-f4b4a5632b11 button.colab-df-convert');\n",
              "        buttonEl.style.display =\n",
              "          google.colab.kernel.accessAllowed ? 'block' : 'none';\n",
              "\n",
              "        async function convertToInteractive(key) {\n",
              "          const element = document.querySelector('#df-ee7f9042-f359-4f82-bdea-f4b4a5632b11');\n",
              "          const dataTable =\n",
              "            await google.colab.kernel.invokeFunction('convertToInteractive',\n",
              "                                                     [key], {});\n",
              "          if (!dataTable) return;\n",
              "\n",
              "          const docLinkHtml = 'Like what you see? Visit the ' +\n",
              "            '<a target=\"_blank\" href=https://colab.research.google.com/notebooks/data_table.ipynb>data table notebook</a>'\n",
              "            + ' to learn more about interactive tables.';\n",
              "          element.innerHTML = '';\n",
              "          dataTable['output_type'] = 'display_data';\n",
              "          await google.colab.output.renderOutput(dataTable, element);\n",
              "          const docLink = document.createElement('div');\n",
              "          docLink.innerHTML = docLinkHtml;\n",
              "          element.appendChild(docLink);\n",
              "        }\n",
              "      </script>\n",
              "    </div>\n",
              "  </div>\n",
              "  "
            ]
          },
          "metadata": {},
          "execution_count": 5
        }
      ],
      "source": [
        "#Read data\n",
        "weather = pd.read_csv(main_path)\n",
        "weather"
      ]
    },
    {
      "cell_type": "code",
      "execution_count": 6,
      "metadata": {
        "id": "ZXU2FiibnX-n"
      },
      "outputs": [],
      "source": [
        "# Convert datatypes\n",
        "weather.time = weather.time.astype('category')\n",
        "weather.date = pd.to_datetime(weather.date)\n",
        "weather.city = weather.city.astype('category')\n",
        "weather.weather = weather.weather.astype('category')"
      ]
    },
    {
      "cell_type": "markdown",
      "source": [
        "### *Handle NAN*"
      ],
      "metadata": {
        "id": "ear7mTQTcgzA"
      }
    },
    {
      "cell_type": "code",
      "execution_count": 7,
      "metadata": {
        "id": "gY10nsfGt3XW",
        "colab": {
          "base_uri": "https://localhost:8080/",
          "height": 353
        },
        "outputId": "b07c3fef-2d6a-4814-b97d-60a404327a8e"
      },
      "outputs": [
        {
          "output_type": "execute_result",
          "data": {
            "text/plain": [
              "       time       date    city  temp_mean  temp_max  temp_min  wind  \\\n",
              "50    night 2022-12-17  Shiraz        NaN       NaN       NaN   NaN   \n",
              "55   midday 2022-12-19  Shiraz        NaN       NaN       NaN   NaN   \n",
              "56    night 2022-12-19  Shiraz        NaN       NaN       NaN   NaN   \n",
              "71    night 2022-12-24  Shiraz        NaN       NaN       NaN   NaN   \n",
              "93  morning 2022-11-02  Shiraz        NaN       NaN       NaN   NaN   \n",
              "\n",
              "    wind_direction  humidity  barometer  visibility weather  \n",
              "50             NaN       NaN        NaN         NaN     NaN  \n",
              "55             NaN       NaN        NaN         NaN     NaN  \n",
              "56             NaN       NaN        NaN         NaN     NaN  \n",
              "71             NaN       NaN        NaN         NaN     NaN  \n",
              "93             NaN       NaN        NaN         NaN     NaN  "
            ],
            "text/html": [
              "\n",
              "  <div id=\"df-0f19c29a-8f49-49ad-9cc9-ab3aa6e3ba14\">\n",
              "    <div class=\"colab-df-container\">\n",
              "      <div>\n",
              "<style scoped>\n",
              "    .dataframe tbody tr th:only-of-type {\n",
              "        vertical-align: middle;\n",
              "    }\n",
              "\n",
              "    .dataframe tbody tr th {\n",
              "        vertical-align: top;\n",
              "    }\n",
              "\n",
              "    .dataframe thead th {\n",
              "        text-align: right;\n",
              "    }\n",
              "</style>\n",
              "<table border=\"1\" class=\"dataframe\">\n",
              "  <thead>\n",
              "    <tr style=\"text-align: right;\">\n",
              "      <th></th>\n",
              "      <th>time</th>\n",
              "      <th>date</th>\n",
              "      <th>city</th>\n",
              "      <th>temp_mean</th>\n",
              "      <th>temp_max</th>\n",
              "      <th>temp_min</th>\n",
              "      <th>wind</th>\n",
              "      <th>wind_direction</th>\n",
              "      <th>humidity</th>\n",
              "      <th>barometer</th>\n",
              "      <th>visibility</th>\n",
              "      <th>weather</th>\n",
              "    </tr>\n",
              "  </thead>\n",
              "  <tbody>\n",
              "    <tr>\n",
              "      <th>50</th>\n",
              "      <td>night</td>\n",
              "      <td>2022-12-17</td>\n",
              "      <td>Shiraz</td>\n",
              "      <td>NaN</td>\n",
              "      <td>NaN</td>\n",
              "      <td>NaN</td>\n",
              "      <td>NaN</td>\n",
              "      <td>NaN</td>\n",
              "      <td>NaN</td>\n",
              "      <td>NaN</td>\n",
              "      <td>NaN</td>\n",
              "      <td>NaN</td>\n",
              "    </tr>\n",
              "    <tr>\n",
              "      <th>55</th>\n",
              "      <td>midday</td>\n",
              "      <td>2022-12-19</td>\n",
              "      <td>Shiraz</td>\n",
              "      <td>NaN</td>\n",
              "      <td>NaN</td>\n",
              "      <td>NaN</td>\n",
              "      <td>NaN</td>\n",
              "      <td>NaN</td>\n",
              "      <td>NaN</td>\n",
              "      <td>NaN</td>\n",
              "      <td>NaN</td>\n",
              "      <td>NaN</td>\n",
              "    </tr>\n",
              "    <tr>\n",
              "      <th>56</th>\n",
              "      <td>night</td>\n",
              "      <td>2022-12-19</td>\n",
              "      <td>Shiraz</td>\n",
              "      <td>NaN</td>\n",
              "      <td>NaN</td>\n",
              "      <td>NaN</td>\n",
              "      <td>NaN</td>\n",
              "      <td>NaN</td>\n",
              "      <td>NaN</td>\n",
              "      <td>NaN</td>\n",
              "      <td>NaN</td>\n",
              "      <td>NaN</td>\n",
              "    </tr>\n",
              "    <tr>\n",
              "      <th>71</th>\n",
              "      <td>night</td>\n",
              "      <td>2022-12-24</td>\n",
              "      <td>Shiraz</td>\n",
              "      <td>NaN</td>\n",
              "      <td>NaN</td>\n",
              "      <td>NaN</td>\n",
              "      <td>NaN</td>\n",
              "      <td>NaN</td>\n",
              "      <td>NaN</td>\n",
              "      <td>NaN</td>\n",
              "      <td>NaN</td>\n",
              "      <td>NaN</td>\n",
              "    </tr>\n",
              "    <tr>\n",
              "      <th>93</th>\n",
              "      <td>morning</td>\n",
              "      <td>2022-11-02</td>\n",
              "      <td>Shiraz</td>\n",
              "      <td>NaN</td>\n",
              "      <td>NaN</td>\n",
              "      <td>NaN</td>\n",
              "      <td>NaN</td>\n",
              "      <td>NaN</td>\n",
              "      <td>NaN</td>\n",
              "      <td>NaN</td>\n",
              "      <td>NaN</td>\n",
              "      <td>NaN</td>\n",
              "    </tr>\n",
              "  </tbody>\n",
              "</table>\n",
              "</div>\n",
              "      <button class=\"colab-df-convert\" onclick=\"convertToInteractive('df-0f19c29a-8f49-49ad-9cc9-ab3aa6e3ba14')\"\n",
              "              title=\"Convert this dataframe to an interactive table.\"\n",
              "              style=\"display:none;\">\n",
              "        \n",
              "  <svg xmlns=\"http://www.w3.org/2000/svg\" height=\"24px\"viewBox=\"0 0 24 24\"\n",
              "       width=\"24px\">\n",
              "    <path d=\"M0 0h24v24H0V0z\" fill=\"none\"/>\n",
              "    <path d=\"M18.56 5.44l.94 2.06.94-2.06 2.06-.94-2.06-.94-.94-2.06-.94 2.06-2.06.94zm-11 1L8.5 8.5l.94-2.06 2.06-.94-2.06-.94L8.5 2.5l-.94 2.06-2.06.94zm10 10l.94 2.06.94-2.06 2.06-.94-2.06-.94-.94-2.06-.94 2.06-2.06.94z\"/><path d=\"M17.41 7.96l-1.37-1.37c-.4-.4-.92-.59-1.43-.59-.52 0-1.04.2-1.43.59L10.3 9.45l-7.72 7.72c-.78.78-.78 2.05 0 2.83L4 21.41c.39.39.9.59 1.41.59.51 0 1.02-.2 1.41-.59l7.78-7.78 2.81-2.81c.8-.78.8-2.07 0-2.86zM5.41 20L4 18.59l7.72-7.72 1.47 1.35L5.41 20z\"/>\n",
              "  </svg>\n",
              "      </button>\n",
              "      \n",
              "  <style>\n",
              "    .colab-df-container {\n",
              "      display:flex;\n",
              "      flex-wrap:wrap;\n",
              "      gap: 12px;\n",
              "    }\n",
              "\n",
              "    .colab-df-convert {\n",
              "      background-color: #E8F0FE;\n",
              "      border: none;\n",
              "      border-radius: 50%;\n",
              "      cursor: pointer;\n",
              "      display: none;\n",
              "      fill: #1967D2;\n",
              "      height: 32px;\n",
              "      padding: 0 0 0 0;\n",
              "      width: 32px;\n",
              "    }\n",
              "\n",
              "    .colab-df-convert:hover {\n",
              "      background-color: #E2EBFA;\n",
              "      box-shadow: 0px 1px 2px rgba(60, 64, 67, 0.3), 0px 1px 3px 1px rgba(60, 64, 67, 0.15);\n",
              "      fill: #174EA6;\n",
              "    }\n",
              "\n",
              "    [theme=dark] .colab-df-convert {\n",
              "      background-color: #3B4455;\n",
              "      fill: #D2E3FC;\n",
              "    }\n",
              "\n",
              "    [theme=dark] .colab-df-convert:hover {\n",
              "      background-color: #434B5C;\n",
              "      box-shadow: 0px 1px 3px 1px rgba(0, 0, 0, 0.15);\n",
              "      filter: drop-shadow(0px 1px 2px rgba(0, 0, 0, 0.3));\n",
              "      fill: #FFFFFF;\n",
              "    }\n",
              "  </style>\n",
              "\n",
              "      <script>\n",
              "        const buttonEl =\n",
              "          document.querySelector('#df-0f19c29a-8f49-49ad-9cc9-ab3aa6e3ba14 button.colab-df-convert');\n",
              "        buttonEl.style.display =\n",
              "          google.colab.kernel.accessAllowed ? 'block' : 'none';\n",
              "\n",
              "        async function convertToInteractive(key) {\n",
              "          const element = document.querySelector('#df-0f19c29a-8f49-49ad-9cc9-ab3aa6e3ba14');\n",
              "          const dataTable =\n",
              "            await google.colab.kernel.invokeFunction('convertToInteractive',\n",
              "                                                     [key], {});\n",
              "          if (!dataTable) return;\n",
              "\n",
              "          const docLinkHtml = 'Like what you see? Visit the ' +\n",
              "            '<a target=\"_blank\" href=https://colab.research.google.com/notebooks/data_table.ipynb>data table notebook</a>'\n",
              "            + ' to learn more about interactive tables.';\n",
              "          element.innerHTML = '';\n",
              "          dataTable['output_type'] = 'display_data';\n",
              "          await google.colab.output.renderOutput(dataTable, element);\n",
              "          const docLink = document.createElement('div');\n",
              "          docLink.innerHTML = docLinkHtml;\n",
              "          element.appendChild(docLink);\n",
              "        }\n",
              "      </script>\n",
              "    </div>\n",
              "  </div>\n",
              "  "
            ]
          },
          "metadata": {},
          "execution_count": 7
        }
      ],
      "source": [
        "weather[weather.isna().any(axis = 1)].head()"
      ]
    },
    {
      "cell_type": "code",
      "execution_count": 8,
      "metadata": {
        "id": "ioPpzxFBPeR9"
      },
      "outputs": [],
      "source": [
        "weather.dropna(inplace = True)"
      ]
    },
    {
      "cell_type": "code",
      "execution_count": 9,
      "metadata": {
        "id": "QI2qlGGO5Wtg"
      },
      "outputs": [],
      "source": [
        "weather.to_csv('clean_weather.csv', index = False)"
      ]
    },
    {
      "cell_type": "markdown",
      "source": [
        "### *Clean Data*"
      ],
      "metadata": {
        "id": "y2PfIEhmcA5x"
      }
    },
    {
      "cell_type": "code",
      "execution_count": 10,
      "metadata": {
        "id": "UjYhhR7olwZs",
        "colab": {
          "base_uri": "https://localhost:8080/"
        },
        "outputId": "1b0f40b6-5900-4fc0-888d-e902167cfa3b"
      },
      "outputs": [
        {
          "output_type": "execute_result",
          "data": {
            "text/plain": [
              "Clear                      7283\n",
              "Passing clouds             5628\n",
              "Sunny                      4296\n",
              "Scattered clouds           1411\n",
              "Partly sunny                738\n",
              "Fog                         664\n",
              "Overcast                    533\n",
              "Haze                        531\n",
              "Broken clouds               450\n",
              "Partly cloudy               253\n",
              "Ice fog                     176\n",
              "Mostly cloudy               144\n",
              "More clouds than sun        135\n",
              "Light rain                  130\n",
              "Duststorm                    51\n",
              "Light snow                   38\n",
              "Rain                         38\n",
              "Scattered showers            36\n",
              "Thunderstorms                20\n",
              "Sandstorm                    20\n",
              "Sprinkles                    19\n",
              "Low clouds                   15\n",
              "Thundershowers               12\n",
              "Snow                          8\n",
              "Dense fog                     7\n",
              "Drizzle                       5\n",
              "Low level haze                5\n",
              "Snow flurries                 4\n",
              "Light mixture of precip       3\n",
              "Light freezing rain           1\n",
              "Rain showers                  1\n",
              "Cloudy                        1\n",
              "Heavy snow                    1\n",
              "Name: weather, dtype: int64"
            ]
          },
          "metadata": {},
          "execution_count": 10
        }
      ],
      "source": [
        "weather.weather = weather.weather.apply(lambda x: x.strip())\n",
        "weather.weather.value_counts()"
      ]
    },
    {
      "cell_type": "code",
      "execution_count": 11,
      "metadata": {
        "id": "87nfGeUK8GWj"
      },
      "outputs": [],
      "source": [
        "dict_weather = {\n",
        "   'Scattered clouds' : 'Cloudy',\n",
        "   'Overcast': 'Cloudy',\n",
        "   'Broken clouds': 'Cloudy',\n",
        "   'Mostly cloudy':'Cloudy',\n",
        "   'More clouds than sun':'Cloudy',\n",
        "   'Passing clouds' : 'Cloudy',\n",
        "   'Partly sunny' : 'Sunny',\n",
        "   'Haze':'Fog',\n",
        "   'Ice fog' : 'Fog',\n",
        "   'Light rain' : 'Rain',\n",
        "   'Light snow' : 'Snow',\n",
        "   'Scattered showers' : 'Rain',\n",
        "   'Duststorm' : 'Storm',\n",
        "   'Sandstorm' : 'Storm',\n",
        "   'Sprinkles' : 'Rain',\n",
        "   'Low clouds' : 'Cloudy',\n",
        "    'Thunderstorms': 'Thunder',\n",
        "    'Thundershowers' : 'Thunder',\n",
        "    'Dense fog' : 'Fog',\n",
        "    'Drizzle' : 'Rain',\n",
        "    'Low level haze' : 'Fog',\n",
        "    'Snow flurries' : 'Snow',    \n",
        "    'Light mixture of precip' : 'Snow',\n",
        "    'Light freezing rain' : 'Rain',\n",
        "    'Rain showers' : 'Rain',\n",
        "    'Heavy snow': 'Snow',\n",
        "    'Partly cloudy' : 'Cloudy',\n",
        "}\n",
        "\n"
      ]
    },
    {
      "cell_type": "code",
      "execution_count": 12,
      "metadata": {
        "id": "_j4YlhPp2ke8"
      },
      "outputs": [],
      "source": [
        "def clean_target(x):\n",
        "  if x in dict_weather.keys():\n",
        "    return dict_weather[x]\n",
        "  else:\n",
        "    return x\n",
        "\n",
        "weather.weather = weather.weather.apply(clean_target)"
      ]
    },
    {
      "cell_type": "code",
      "execution_count": 13,
      "metadata": {
        "id": "p8lMvuv70O-m",
        "colab": {
          "base_uri": "https://localhost:8080/"
        },
        "outputId": "2cafa151-2c9b-451a-c387-d3b467051e5d"
      },
      "outputs": [
        {
          "output_type": "execute_result",
          "data": {
            "text/plain": [
              "Cloudy     8570\n",
              "Clear      7283\n",
              "Sunny      5034\n",
              "Fog        1383\n",
              "Rain        230\n",
              "Storm        71\n",
              "Snow         54\n",
              "Thunder      32\n",
              "Name: weather, dtype: int64"
            ]
          },
          "metadata": {},
          "execution_count": 13
        }
      ],
      "source": [
        "weather.weather.value_counts()"
      ]
    },
    {
      "cell_type": "code",
      "execution_count": 14,
      "metadata": {
        "id": "ODzzEuFEVcfc",
        "colab": {
          "base_uri": "https://localhost:8080/",
          "height": 507
        },
        "outputId": "105397f8-0359-49ce-b374-718ad67c986a"
      },
      "outputs": [
        {
          "output_type": "execute_result",
          "data": {
            "text/plain": [
              "Text(0.5, 1.0, 'Hostogram weather')"
            ]
          },
          "metadata": {},
          "execution_count": 14
        },
        {
          "output_type": "display_data",
          "data": {
            "text/plain": [
              "<Figure size 936x720 with 1 Axes>"
            ],
            "image/png": "[encoded data removed]"
          },
          "metadata": {
            "needs_background": "light"
          }
        }
      ],
      "source": [
        "plt.figure(figsize=(13,10))\n",
        "sns.histplot(data = weather , y = 'weather')\n",
        "plt.title('Hostogram weather')\n"
      ]
    },
    {
      "cell_type": "code",
      "source": [
        "# convert date to three column\n",
        "year = weather.date.dt.year\n",
        "month = weather.date.dt.month\n",
        "day = weather.date.dt.day"
      ],
      "metadata": {
        "id": "zJsInDPWMe_4"
      },
      "execution_count": 15,
      "outputs": []
    },
    {
      "cell_type": "code",
      "source": [
        "weather.insert(1,'year',year)\n",
        "weather.insert(1,'month',month)\n",
        "weather.insert(1,'day',day)"
      ],
      "metadata": {
        "id": "JGFLruuNS6i_"
      },
      "execution_count": 16,
      "outputs": []
    },
    {
      "cell_type": "code",
      "source": [
        "# drop date column\n",
        "weather.drop(['date'], axis = 1, inplace = True)"
      ],
      "metadata": {
        "id": "wHOMsMtTNbti"
      },
      "execution_count": 17,
      "outputs": []
    },
    {
      "cell_type": "code",
      "source": [
        "weather.head()"
      ],
      "metadata": {
        "id": "H0Z_hyLFRUwn",
        "colab": {
          "base_uri": "https://localhost:8080/",
          "height": 268
        },
        "outputId": "413ce6ed-54bc-4749-92d1-3eb8e17c2964"
      },
      "execution_count": 18,
      "outputs": [
        {
          "output_type": "execute_result",
          "data": {
            "text/plain": [
              "      time  day  month  year    city  temp_mean  temp_max  temp_min  wind  \\\n",
              "0  morning    1     12  2022  Shiraz       6.33       9.0       4.0   0.0   \n",
              "1   midday    1     12  2022  Shiraz      18.33      21.0      15.0   2.0   \n",
              "2    night    1     12  2022  Shiraz      17.00      17.0      17.0   7.0   \n",
              "3  morning    2     12  2022  Shiraz       6.33       9.0       4.0   0.0   \n",
              "4   midday    2     12  2022  Shiraz      17.33      19.0      14.0   0.0   \n",
              "\n",
              "   wind_direction  humidity  barometer  visibility weather  \n",
              "0             0.0       0.0      66.33     1019.67   Clear  \n",
              "1             2.0      40.0      31.33     1017.33  Cloudy  \n",
              "2             7.0     280.0      32.00     1018.00     Fog  \n",
              "3             0.0       0.0      67.00     1018.33   Clear  \n",
              "4             0.0       0.0      37.00     1015.00   Sunny  "
            ],
            "text/html": [
              "\n",
              "  <div id=\"df-46605202-101f-45e7-87f4-4f9cf4e35049\">\n",
              "    <div class=\"colab-df-container\">\n",
              "      <div>\n",
              "<style scoped>\n",
              "    .dataframe tbody tr th:only-of-type {\n",
              "        vertical-align: middle;\n",
              "    }\n",
              "\n",
              "    .dataframe tbody tr th {\n",
              "        vertical-align: top;\n",
              "    }\n",
              "\n",
              "    .dataframe thead th {\n",
              "        text-align: right;\n",
              "    }\n",
              "</style>\n",
              "<table border=\"1\" class=\"dataframe\">\n",
              "  <thead>\n",
              "    <tr style=\"text-align: right;\">\n",
              "      <th></th>\n",
              "      <th>time</th>\n",
              "      <th>day</th>\n",
              "      <th>month</th>\n",
              "      <th>year</th>\n",
              "      <th>city</th>\n",
              "      <th>temp_mean</th>\n",
              "      <th>temp_max</th>\n",
              "      <th>temp_min</th>\n",
              "      <th>wind</th>\n",
              "      <th>wind_direction</th>\n",
              "      <th>humidity</th>\n",
              "      <th>barometer</th>\n",
              "      <th>visibility</th>\n",
              "      <th>weather</th>\n",
              "    </tr>\n",
              "  </thead>\n",
              "  <tbody>\n",
              "    <tr>\n",
              "      <th>0</th>\n",
              "      <td>morning</td>\n",
              "      <td>1</td>\n",
              "      <td>12</td>\n",
              "      <td>2022</td>\n",
              "      <td>Shiraz</td>\n",
              "      <td>6.33</td>\n",
              "      <td>9.0</td>\n",
              "      <td>4.0</td>\n",
              "      <td>0.0</td>\n",
              "      <td>0.0</td>\n",
              "      <td>0.0</td>\n",
              "      <td>66.33</td>\n",
              "      <td>1019.67</td>\n",
              "      <td>Clear</td>\n",
              "    </tr>\n",
              "    <tr>\n",
              "      <th>1</th>\n",
              "      <td>midday</td>\n",
              "      <td>1</td>\n",
              "      <td>12</td>\n",
              "      <td>2022</td>\n",
              "      <td>Shiraz</td>\n",
              "      <td>18.33</td>\n",
              "      <td>21.0</td>\n",
              "      <td>15.0</td>\n",
              "      <td>2.0</td>\n",
              "      <td>2.0</td>\n",
              "      <td>40.0</td>\n",
              "      <td>31.33</td>\n",
              "      <td>1017.33</td>\n",
              "      <td>Cloudy</td>\n",
              "    </tr>\n",
              "    <tr>\n",
              "      <th>2</th>\n",
              "      <td>night</td>\n",
              "      <td>1</td>\n",
              "      <td>12</td>\n",
              "      <td>2022</td>\n",
              "      <td>Shiraz</td>\n",
              "      <td>17.00</td>\n",
              "      <td>17.0</td>\n",
              "      <td>17.0</td>\n",
              "      <td>7.0</td>\n",
              "      <td>7.0</td>\n",
              "      <td>280.0</td>\n",
              "      <td>32.00</td>\n",
              "      <td>1018.00</td>\n",
              "      <td>Fog</td>\n",
              "    </tr>\n",
              "    <tr>\n",
              "      <th>3</th>\n",
              "      <td>morning</td>\n",
              "      <td>2</td>\n",
              "      <td>12</td>\n",
              "      <td>2022</td>\n",
              "      <td>Shiraz</td>\n",
              "      <td>6.33</td>\n",
              "      <td>9.0</td>\n",
              "      <td>4.0</td>\n",
              "      <td>0.0</td>\n",
              "      <td>0.0</td>\n",
              "      <td>0.0</td>\n",
              "      <td>67.00</td>\n",
              "      <td>1018.33</td>\n",
              "      <td>Clear</td>\n",
              "    </tr>\n",
              "    <tr>\n",
              "      <th>4</th>\n",
              "      <td>midday</td>\n",
              "      <td>2</td>\n",
              "      <td>12</td>\n",
              "      <td>2022</td>\n",
              "      <td>Shiraz</td>\n",
              "      <td>17.33</td>\n",
              "      <td>19.0</td>\n",
              "      <td>14.0</td>\n",
              "      <td>0.0</td>\n",
              "      <td>0.0</td>\n",
              "      <td>0.0</td>\n",
              "      <td>37.00</td>\n",
              "      <td>1015.00</td>\n",
              "      <td>Sunny</td>\n",
              "    </tr>\n",
              "  </tbody>\n",
              "</table>\n",
              "</div>\n",
              "      <button class=\"colab-df-convert\" onclick=\"convertToInteractive('df-46605202-101f-45e7-87f4-4f9cf4e35049')\"\n",
              "              title=\"Convert this dataframe to an interactive table.\"\n",
              "              style=\"display:none;\">\n",
              "        \n",
              "  <svg xmlns=\"http://www.w3.org/2000/svg\" height=\"24px\"viewBox=\"0 0 24 24\"\n",
              "       width=\"24px\">\n",
              "    <path d=\"M0 0h24v24H0V0z\" fill=\"none\"/>\n",
              "    <path d=\"M18.56 5.44l.94 2.06.94-2.06 2.06-.94-2.06-.94-.94-2.06-.94 2.06-2.06.94zm-11 1L8.5 8.5l.94-2.06 2.06-.94-2.06-.94L8.5 2.5l-.94 2.06-2.06.94zm10 10l.94 2.06.94-2.06 2.06-.94-2.06-.94-.94-2.06-.94 2.06-2.06.94z\"/><path d=\"M17.41 7.96l-1.37-1.37c-.4-.4-.92-.59-1.43-.59-.52 0-1.04.2-1.43.59L10.3 9.45l-7.72 7.72c-.78.78-.78 2.05 0 2.83L4 21.41c.39.39.9.59 1.41.59.51 0 1.02-.2 1.41-.59l7.78-7.78 2.81-2.81c.8-.78.8-2.07 0-2.86zM5.41 20L4 18.59l7.72-7.72 1.47 1.35L5.41 20z\"/>\n",
              "  </svg>\n",
              "      </button>\n",
              "      \n",
              "  <style>\n",
              "    .colab-df-container {\n",
              "      display:flex;\n",
              "      flex-wrap:wrap;\n",
              "      gap: 12px;\n",
              "    }\n",
              "\n",
              "    .colab-df-convert {\n",
              "      background-color: #E8F0FE;\n",
              "      border: none;\n",
              "      border-radius: 50%;\n",
              "      cursor: pointer;\n",
              "      display: none;\n",
              "      fill: #1967D2;\n",
              "      height: 32px;\n",
              "      padding: 0 0 0 0;\n",
              "      width: 32px;\n",
              "    }\n",
              "\n",
              "    .colab-df-convert:hover {\n",
              "      background-color: #E2EBFA;\n",
              "      box-shadow: 0px 1px 2px rgba(60, 64, 67, 0.3), 0px 1px 3px 1px rgba(60, 64, 67, 0.15);\n",
              "      fill: #174EA6;\n",
              "    }\n",
              "\n",
              "    [theme=dark] .colab-df-convert {\n",
              "      background-color: #3B4455;\n",
              "      fill: #D2E3FC;\n",
              "    }\n",
              "\n",
              "    [theme=dark] .colab-df-convert:hover {\n",
              "      background-color: #434B5C;\n",
              "      box-shadow: 0px 1px 3px 1px rgba(0, 0, 0, 0.15);\n",
              "      filter: drop-shadow(0px 1px 2px rgba(0, 0, 0, 0.3));\n",
              "      fill: #FFFFFF;\n",
              "    }\n",
              "  </style>\n",
              "\n",
              "      <script>\n",
              "        const buttonEl =\n",
              "          document.querySelector('#df-46605202-101f-45e7-87f4-4f9cf4e35049 button.colab-df-convert');\n",
              "        buttonEl.style.display =\n",
              "          google.colab.kernel.accessAllowed ? 'block' : 'none';\n",
              "\n",
              "        async function convertToInteractive(key) {\n",
              "          const element = document.querySelector('#df-46605202-101f-45e7-87f4-4f9cf4e35049');\n",
              "          const dataTable =\n",
              "            await google.colab.kernel.invokeFunction('convertToInteractive',\n",
              "                                                     [key], {});\n",
              "          if (!dataTable) return;\n",
              "\n",
              "          const docLinkHtml = 'Like what you see? Visit the ' +\n",
              "            '<a target=\"_blank\" href=https://colab.research.google.com/notebooks/data_table.ipynb>data table notebook</a>'\n",
              "            + ' to learn more about interactive tables.';\n",
              "          element.innerHTML = '';\n",
              "          dataTable['output_type'] = 'display_data';\n",
              "          await google.colab.output.renderOutput(dataTable, element);\n",
              "          const docLink = document.createElement('div');\n",
              "          docLink.innerHTML = docLinkHtml;\n",
              "          element.appendChild(docLink);\n",
              "        }\n",
              "      </script>\n",
              "    </div>\n",
              "  </div>\n",
              "  "
            ]
          },
          "metadata": {},
          "execution_count": 18
        }
      ]
    },
    {
      "cell_type": "markdown",
      "source": [
        "### *Covert categorical column to numerical*\n"
      ],
      "metadata": {
        "id": "H_oEDXpPdJV6"
      }
    },
    {
      "cell_type": "code",
      "source": [
        "cities = np.array([weather.city.unique(),weather.city.cat.codes.unique()])  "
      ],
      "metadata": {
        "id": "O2ddkK6IVbBB"
      },
      "execution_count": 19,
      "outputs": []
    },
    {
      "cell_type": "code",
      "source": [
        "weather.city = weather.city.cat.codes\n",
        "weather.time = weather.time.cat.codes"
      ],
      "metadata": {
        "id": "99EwBxRsUlgx"
      },
      "execution_count": 20,
      "outputs": []
    },
    {
      "cell_type": "markdown",
      "source": [
        "### *Handle imbalanced classes*"
      ],
      "metadata": {
        "id": "3U-eckGldVJn"
      }
    },
    {
      "cell_type": "code",
      "source": [
        "sm = SMOTE(random_state = 3)\n",
        "X_res, y_res = sm.fit_resample(weather.iloc[:,:-1], weather.iloc[:,-1])\n",
        "y_res.value_counts()"
      ],
      "metadata": {
        "id": "5B1ZPttgREbB",
        "colab": {
          "base_uri": "https://localhost:8080/"
        },
        "outputId": "d75a875f-6dce-42ab-e6b0-ee8f55b7465a"
      },
      "execution_count": 21,
      "outputs": [
        {
          "output_type": "execute_result",
          "data": {
            "text/plain": [
              "Clear      8570\n",
              "Cloudy     8570\n",
              "Fog        8570\n",
              "Sunny      8570\n",
              "Rain       8570\n",
              "Thunder    8570\n",
              "Storm      8570\n",
              "Snow       8570\n",
              "Name: weather, dtype: int64"
            ]
          },
          "metadata": {},
          "execution_count": 21
        }
      ]
    },
    {
      "cell_type": "markdown",
      "metadata": {
        "id": "OggIJ07n0k0p"
      },
      "source": [
        "# Exploratory Analysis"
      ]
    },
    {
      "cell_type": "markdown",
      "source": [
        "### *Part 1*"
      ],
      "metadata": {
        "id": "rE19mR1lfY7u"
      }
    },
    {
      "cell_type": "code",
      "source": [
        "y_res = y_res.astype('category')"
      ],
      "metadata": {
        "id": "MEott2_ArEeO"
      },
      "execution_count": 22,
      "outputs": []
    },
    {
      "cell_type": "code",
      "source": [
        "y = y_res.cat.codes"
      ],
      "metadata": {
        "id": "YEQ6mDZtrP9V"
      },
      "execution_count": 23,
      "outputs": []
    },
    {
      "cell_type": "code",
      "execution_count": 24,
      "metadata": {
        "id": "mE3ENkmJyr-I"
      },
      "outputs": [],
      "source": [
        "# Split into training and testing data\n",
        "X_train, X_test, y_train, y_test = train_test_split(X_res, y, train_size = .7,random_state= 20)"
      ]
    },
    {
      "cell_type": "code",
      "source": [
        "forest = RandomForestRegressor(random_state=0)\n",
        "forest.fit(X_train, y_train)"
      ],
      "metadata": {
        "id": "MKVIXZn5o5uc",
        "colab": {
          "base_uri": "https://localhost:8080/"
        },
        "outputId": "34389883-5c5f-4d2e-8be0-b2f4f6ba9813"
      },
      "execution_count": 25,
      "outputs": [
        {
          "output_type": "execute_result",
          "data": {
            "text/plain": [
              "RandomForestRegressor(random_state=0)"
            ]
          },
          "metadata": {},
          "execution_count": 25
        }
      ]
    },
    {
      "cell_type": "code",
      "source": [
        "forest_imp = forest.feature_importances_\n",
        "forest_imp "
      ],
      "metadata": {
        "id": "hoIrhnmQo53N",
        "colab": {
          "base_uri": "https://localhost:8080/"
        },
        "outputId": "b0563d80-b17d-4aa8-9b09-355981f3dc65"
      },
      "execution_count": 26,
      "outputs": [
        {
          "output_type": "execute_result",
          "data": {
            "text/plain": [
              "array([0.09723007, 0.05175455, 0.08051573, 0.02228457, 0.04661305,\n",
              "       0.04406291, 0.20810694, 0.04512333, 0.05004742, 0.05380555,\n",
              "       0.08484929, 0.14071337, 0.07489321])"
            ]
          },
          "metadata": {},
          "execution_count": 26
        }
      ]
    },
    {
      "cell_type": "markdown",
      "source": [
        "### *Part 2*"
      ],
      "metadata": {
        "id": "GYsHbVBXfdR7"
      }
    },
    {
      "cell_type": "code",
      "source": [],
      "metadata": {
        "id": "KFmHeto8fhMM"
      },
      "execution_count": 26,
      "outputs": []
    },
    {
      "cell_type": "markdown",
      "metadata": {
        "id": "dGJqVa9C02xG"
      },
      "source": [
        "# Reduction dimension"
      ]
    },
    {
      "cell_type": "code",
      "source": [],
      "metadata": {
        "id": "kS6OXgY9eIkb"
      },
      "execution_count": 26,
      "outputs": []
    },
    {
      "cell_type": "markdown",
      "metadata": {
        "id": "EsJzhjcJ08Yd"
      },
      "source": [
        "# Classification"
      ]
    },
    {
      "cell_type": "markdown",
      "source": [
        "### *Part 1*"
      ],
      "metadata": {
        "id": "2pxxpYqnfi5k"
      }
    },
    {
      "cell_type": "code",
      "source": [
        "classes = y_res.unique()"
      ],
      "metadata": {
        "id": "BRBiAkeLgJaX"
      },
      "execution_count": 27,
      "outputs": []
    },
    {
      "cell_type": "markdown",
      "source": [
        "##### *MLP Classifier*"
      ],
      "metadata": {
        "id": "55MGq1zUe8Hu"
      }
    },
    {
      "cell_type": "code",
      "source": [
        "clf = MLPClassifier( alpha=0.001,\n",
        "                    hidden_layer_sizes=(12,25,38,50),)"
      ],
      "metadata": {
        "id": "0oFyjxrNj1E2"
      },
      "execution_count": 34,
      "outputs": []
    },
    {
      "cell_type": "code",
      "source": [
        "clf.fit(X_train,y_train)\n",
        "y_pred = clf.predict(X_test)\n",
        "accuracy_score(y_test , y_pred)"
      ],
      "metadata": {
        "colab": {
          "base_uri": "https://localhost:8080/"
        },
        "id": "_RnGmCsZo4J9",
        "outputId": "1a9308a8-2bb1-4713-daa0-9bde10ef576d"
      },
      "execution_count": 35,
      "outputs": [
        {
          "output_type": "stream",
          "name": "stderr",
          "text": [
            "/usr/local/lib/python3.8/dist-packages/sklearn/neural_network/_multilayer_perceptron.py:692: ConvergenceWarning: Stochastic Optimizer: Maximum iterations (200) reached and the optimization hasn't converged yet.\n",
            "  warnings.warn(\n"
          ]
        },
        {
          "output_type": "execute_result",
          "data": {
            "text/plain": [
              "0.7437281213535589"
            ]
          },
          "metadata": {},
          "execution_count": 35
        }
      ]
    },
    {
      "cell_type": "markdown",
      "source": [
        "##### Decision Tree Classifier"
      ],
      "metadata": {
        "id": "YWetOwXFfzPu"
      }
    },
    {
      "cell_type": "code",
      "source": [
        "model = DecisionTreeClassifier( random_state=42,max_depth=10, min_samples_leaf=5)   \n",
        "model.fit(X_train,y_train)\n",
        "y_pred = model.predict(X_test)\n",
        "\n",
        "\n",
        "print(accuracy_score(y_test, y_pred))\n",
        "cf_matrix = confusion_matrix(y_test, y_pred)\n",
        "fig, ax =  plt.subplots(figsize=(8,8))\n",
        "disp = ConfusionMatrixDisplay(cf_matrix, display_labels= classes)\n",
        "disp.plot(cmap = plt.cm.Blues , colorbar = False, ax = ax)"
      ],
      "metadata": {
        "id": "c4jDhWi2bafN",
        "colab": {
          "base_uri": "https://localhost:8080/",
          "height": 548
        },
        "outputId": "ef8fdf64-0f5d-4f40-f7e0-28b8f0d6bd47"
      },
      "execution_count": 69,
      "outputs": [
        {
          "output_type": "stream",
          "name": "stdout",
          "text": [
            "0.7363380007779075\n"
          ]
        },
        {
          "output_type": "execute_result",
          "data": {
            "text/plain": [
              "<sklearn.metrics._plot.confusion_matrix.ConfusionMatrixDisplay at 0x7fcc5f1de9d0>"
            ]
          },
          "metadata": {},
          "execution_count": 69
        },
        {
          "output_type": "display_data",
          "data": {
            "text/plain": [
              "<Figure size 576x576 with 1 Axes>"
            ],
            "image/png": "[encoded data removed]"
          },
          "metadata": {
            "needs_background": "light"
          }
        }
      ]
    },
    {
      "cell_type": "markdown",
      "source": [
        "##### *RandomForest Classifier*"
      ],
      "metadata": {
        "id": "7y2VqllIhe9Q"
      }
    },
    {
      "cell_type": "code",
      "source": [
        "model = RandomForestClassifier(n_estimators=50)\n",
        "model.fit(X_train,y_train)\n",
        "y_pred = model.predict(X_test)\n",
        "\n",
        "print(accuracy_score(y_test,y_pred))\n",
        "cf_matrix = confusion_matrix(y_test, y_pred)\n",
        "fig, ax =  plt.subplots(figsize=(8,8))\n",
        "disp = ConfusionMatrixDisplay(cf_matrix, display_labels= model.classes_)\n",
        "disp.plot(cmap = plt.cm.Blues , colorbar = False, ax = ax)"
      ],
      "metadata": {
        "colab": {
          "base_uri": "https://localhost:8080/",
          "height": 548
        },
        "id": "wFs9qiBidFw8",
        "outputId": "e80cd171-9936-4e4d-f167-b26dc72dd100"
      },
      "execution_count": 70,
      "outputs": [
        {
          "output_type": "stream",
          "name": "stdout",
          "text": [
            "0.8766044340723453\n"
          ]
        },
        {
          "output_type": "execute_result",
          "data": {
            "text/plain": [
              "<sklearn.metrics._plot.confusion_matrix.ConfusionMatrixDisplay at 0x7fcc5a91fd90>"
            ]
          },
          "metadata": {},
          "execution_count": 70
        },
        {
          "output_type": "display_data",
          "data": {
            "text/plain": [
              "<Figure size 576x576 with 1 Axes>"
            ],
            "image/png": "[encoded data removed]"
          },
          "metadata": {
            "needs_background": "light"
          }
        }
      ]
    },
    {
      "cell_type": "markdown",
      "source": [
        "##### *Logistic Regression*"
      ],
      "metadata": {
        "id": "NK1HC2cegoKt"
      }
    },
    {
      "cell_type": "code",
      "source": [
        "model = LogisticRegression(random_state=5,penalty='l2')\n",
        "model.fit(X_train,y_train)\n",
        "y_pred = model.predict(X_test)\n",
        "\n",
        "\n",
        "print(accuracy_score(y_test,y_pred))\n",
        "cf_matrix = confusion_matrix(y_test, y_pred)\n",
        "fig, ax =  plt.subplots(figsize=(8,8))\n",
        "disp = ConfusionMatrixDisplay(cf_matrix, display_labels= model.classes_)\n",
        "disp.plot(cmap = plt.cm.Blues , colorbar = False, ax = ax)"
      ],
      "metadata": {
        "id": "kLpeUL5vd7Jo",
        "colab": {
          "base_uri": "https://localhost:8080/",
          "height": 704
        },
        "outputId": "d196fd77-1019-48ca-9fdb-a3ed0f495227"
      },
      "execution_count": 65,
      "outputs": [
        {
          "output_type": "stream",
          "name": "stdout",
          "text": [
            "0.5156067677946324\n"
          ]
        },
        {
          "output_type": "stream",
          "name": "stderr",
          "text": [
            "/usr/local/lib/python3.8/dist-packages/sklearn/linear_model/_logistic.py:814: ConvergenceWarning: lbfgs failed to converge (status=1):\n",
            "STOP: TOTAL NO. of ITERATIONS REACHED LIMIT.\n",
            "\n",
            "Increase the number of iterations (max_iter) or scale the data as shown in:\n",
            "    https://scikit-learn.org/stable/modules/preprocessing.html\n",
            "Please also refer to the documentation for alternative solver options:\n",
            "    https://scikit-learn.org/stable/modules/linear_model.html#logistic-regression\n",
            "  n_iter_i = _check_optimize_result(\n"
          ]
        },
        {
          "output_type": "execute_result",
          "data": {
            "text/plain": [
              "<sklearn.metrics._plot.confusion_matrix.ConfusionMatrixDisplay at 0x7fcc5ae11250>"
            ]
          },
          "metadata": {},
          "execution_count": 65
        },
        {
          "output_type": "display_data",
          "data": {
            "text/plain": [
              "<Figure size 576x576 with 1 Axes>"
            ],
            "image/png": "[encoded data removed]"
          },
          "metadata": {
            "needs_background": "light"
          }
        }
      ]
    },
    {
      "cell_type": "markdown",
      "source": [
        "##### *SVC Classifier*"
      ],
      "metadata": {
        "id": "jfmM67Veg4z2"
      }
    },
    {
      "cell_type": "code",
      "source": [
        "model = SVC(gamma='auto')\n",
        "model.fit(X_train,y_train)\n",
        "y_pred = model.predict(X_test)\n",
        "\n",
        "print(accuracy_score(y_test,y_pred))\n",
        "cf_matrix = confusion_matrix(y_test, y_pred)\n",
        "fig, ax =  plt.subplots(figsize=(8,8))\n",
        "disp = ConfusionMatrixDisplay(cf_matrix, display_labels= model.classes_)\n",
        "disp.plot(cmap = plt.cm.Blues , colorbar = False, ax = ax)"
      ],
      "metadata": {
        "id": "9LhwhEU8fGBz",
        "colab": {
          "base_uri": "https://localhost:8080/",
          "height": 436
        },
        "outputId": "f34ddb61-4a93-4494-e375-a7be3643b21b"
      },
      "execution_count": 46,
      "outputs": [
        {
          "output_type": "stream",
          "name": "stdout",
          "text": [
            "0.8210326721120187\n"
          ]
        },
        {
          "output_type": "display_data",
          "data": {
            "text/plain": [
              "<Figure size 864x504 with 2 Axes>"
            ],
            "image/png": "[encoded data removed]"
          },
          "metadata": {
            "needs_background": "light"
          }
        }
      ]
    },
    {
      "cell_type": "markdown",
      "source": [
        "##### *SGD Classifier*"
      ],
      "metadata": {
        "id": "LZdPWdDehIKA"
      }
    },
    {
      "cell_type": "code",
      "source": [
        "model = SGDClassifier( penalty=\"l2\", max_iter=100)\n",
        "model.fit(X_train,y_train)\n",
        "y_pred = model.predict(X_test)\n",
        "\n",
        "\n",
        "print(accuracy_score(y_test,y_pred))\n",
        "\n",
        "cf_matrix = confusion_matrix(y_test, y_pred)\n",
        "fig, ax =  plt.subplots(figsize=(8,8))\n",
        "disp = ConfusionMatrixDisplay(cf_matrix, display_labels= model.classes_)\n",
        "disp.plot(cmap = plt.cm.Blues , colorbar = False, ax = ax)"
      ],
      "metadata": {
        "id": "7sUbPFYigQTx",
        "colab": {
          "base_uri": "https://localhost:8080/",
          "height": 602
        },
        "outputId": "782e61fb-aca9-495c-9e73-590ae337f122"
      },
      "execution_count": 66,
      "outputs": [
        {
          "output_type": "stream",
          "name": "stdout",
          "text": [
            "0.42580707895760406\n"
          ]
        },
        {
          "output_type": "stream",
          "name": "stderr",
          "text": [
            "/usr/local/lib/python3.8/dist-packages/sklearn/linear_model/_stochastic_gradient.py:696: ConvergenceWarning: Maximum number of iteration reached before convergence. Consider increasing max_iter to improve the fit.\n",
            "  warnings.warn(\n"
          ]
        },
        {
          "output_type": "execute_result",
          "data": {
            "text/plain": [
              "<sklearn.metrics._plot.confusion_matrix.ConfusionMatrixDisplay at 0x7fcc5af80a30>"
            ]
          },
          "metadata": {},
          "execution_count": 66
        },
        {
          "output_type": "display_data",
          "data": {
            "text/plain": [
              "<Figure size 576x576 with 1 Axes>"
            ],
            "image/png": "[encoded data removed]"
          },
          "metadata": {
            "needs_background": "light"
          }
        }
      ]
    },
    {
      "cell_type": "markdown",
      "source": [
        "##### *Gaussian Navie Bayes Classifier*"
      ],
      "metadata": {
        "id": "3qLAs6mJhtL4"
      }
    },
    {
      "cell_type": "code",
      "source": [
        "model = GaussianNB()\n",
        "model.fit(X_train,y_train)\n",
        "y_pred = model.predict(X_test)\n",
        "\n",
        "\n",
        "print(accuracy_score(y_test,y_pred))\n",
        "\n",
        "cf_matrix = confusion_matrix(y_test, y_pred)\n",
        "fig, ax =  plt.subplots(figsize=(8,8))\n",
        "disp = ConfusionMatrixDisplay(cf_matrix, display_labels= model.classes_)\n",
        "disp.plot(cmap = plt.cm.Blues , colorbar = False, ax = ax)"
      ],
      "metadata": {
        "id": "CT5hqgorgYIJ",
        "colab": {
          "base_uri": "https://localhost:8080/",
          "height": 548
        },
        "outputId": "f3a8d96d-e91b-4929-b15e-cab54e73e123"
      },
      "execution_count": 67,
      "outputs": [
        {
          "output_type": "stream",
          "name": "stdout",
          "text": [
            "0.6038020225593155\n"
          ]
        },
        {
          "output_type": "execute_result",
          "data": {
            "text/plain": [
              "<sklearn.metrics._plot.confusion_matrix.ConfusionMatrixDisplay at 0x7fcc5a8df520>"
            ]
          },
          "metadata": {},
          "execution_count": 67
        },
        {
          "output_type": "display_data",
          "data": {
            "text/plain": [
              "<Figure size 576x576 with 1 Axes>"
            ],
            "image/png": "[encoded data removed]"
          },
          "metadata": {
            "needs_background": "light"
          }
        }
      ]
    },
    {
      "cell_type": "markdown",
      "source": [
        "##### *K Neighbors Classifier*"
      ],
      "metadata": {
        "id": "V8vcf33-iCGT"
      }
    },
    {
      "cell_type": "code",
      "source": [
        "model = KNeighborsClassifier(n_neighbors=100)\n",
        "model.fit(X_train,y_train)\n",
        "y_pred = model.predict(X_test)\n",
        "\n",
        "\n",
        "print(accuracy_score(y_test,y_pred))\n",
        "\n",
        "cf_matrix = confusion_matrix(y_test, y_pred)\n",
        "fig, ax =  plt.subplots(figsize=(8,8))\n",
        "disp = ConfusionMatrixDisplay(cf_matrix, display_labels= model.classes_)\n",
        "disp.plot(cmap = plt.cm.Blues , colorbar = False, ax = ax)"
      ],
      "metadata": {
        "id": "sylIrqtyhKMr",
        "colab": {
          "base_uri": "https://localhost:8080/",
          "height": 548
        },
        "outputId": "f1659c1f-dfa5-4a12-bd48-d69efb07229d"
      },
      "execution_count": 68,
      "outputs": [
        {
          "output_type": "stream",
          "name": "stdout",
          "text": [
            "0.6720147802411514\n"
          ]
        },
        {
          "output_type": "execute_result",
          "data": {
            "text/plain": [
              "<sklearn.metrics._plot.confusion_matrix.ConfusionMatrixDisplay at 0x7fcc5b01ea60>"
            ]
          },
          "metadata": {},
          "execution_count": 68
        },
        {
          "output_type": "display_data",
          "data": {
            "text/plain": [
              "<Figure size 576x576 with 1 Axes>"
            ],
            "image/png": "[encoded data removed]"
          },
          "metadata": {
            "needs_background": "light"
          }
        }
      ]
    },
    {
      "cell_type": "code",
      "source": [],
      "metadata": {
        "id": "YmIyepStoZQz"
      },
      "execution_count": null,
      "outputs": []
    }
  ],
  "metadata": {
    "colab": {
      "provenance": [],
      "include_colab_link": true
    },
    "kernelspec": {
      "display_name": "Python 3",
      "name": "python3"
    },
    "language_info": {
      "name": "python"
    },
    "accelerator": "GPU",
    "gpuClass": "standard"
  },
  "nbformat": 4,
  "nbformat_minor": 0
}