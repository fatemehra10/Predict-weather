{
  "nbformat": 4,
  "nbformat_minor": 0,
  "metadata": {
    "colab": {
      "provenance": [],
      "authorship_tag": "ABX9TyNw7be8/XZb1NEyqygMyYh7",
      "include_colab_link": true
    },
    "kernelspec": {
      "name": "python3",
      "display_name": "Python 3"
    },
    "language_info": {
      "name": "python"
    }
  },
  "cells": [
    {
      "cell_type": "markdown",
      "metadata": {
        "id": "view-in-github",
        "colab_type": "text"
      },
      "source": [
        "<a href=\"https://colab.research.google.com/github/fatemehra10/weather-crawl-/blob/main/forecast.ipynb\" target=\"_parent\"><img src=\"https://colab.research.google.com/assets/colab-badge.svg\" alt=\"Open In Colab\"/></a>"
      ]
    },
    {
      "cell_type": "code",
      "execution_count": 1,
      "metadata": {
        "id": "JZ1vfp5Qah2Z"
      },
      "outputs": [],
      "source": [
        "# import necessary library\n",
        "import numpy as np\n",
        "import pandas as pd\n",
        "import matplotlib.pyplot as plt\n",
        "import seaborn as sns"
      ]
    },
    {
      "cell_type": "markdown",
      "source": [
        "# Preprocessing"
      ],
      "metadata": {
        "id": "r1Vctm9ncHun"
      }
    },
    {
      "cell_type": "code",
      "source": [
        "#Read data\n",
        "weather = pd.read_csv('final_weathers.csv')\n",
        "weather"
      ],
      "metadata": {
        "colab": {
          "base_uri": "https://localhost:8080/",
          "height": 823
        },
        "id": "Am1s1N0Na1kJ",
        "outputId": "8321aae5-2c62-4a8c-a41c-68d46f8aa551"
      },
      "execution_count": 12,
      "outputs": [
        {
          "output_type": "execute_result",
          "data": {
            "text/plain": [
              "          time             date     city  temp_mean  temp_max  temp_min  wind  \\\n",
              "0      morning  1 December 2022   Shiraz       6.33       9.0       4.0  0.00   \n",
              "1       midday  1 December 2022   Shiraz      18.33      21.0      15.0  2.00   \n",
              "2        night  1 December 2022   Shiraz      17.00      17.0      17.0  7.00   \n",
              "3      morning  2 December 2022   Shiraz       6.33       9.0       4.0  0.00   \n",
              "4       midday  2 December 2022   Shiraz      17.33      19.0      14.0  0.00   \n",
              "...        ...              ...      ...        ...       ...       ...   ...   \n",
              "22947   midday  30 January 2020  Mashhad       7.62      10.0       2.0  8.56   \n",
              "22948    night  30 January 2020  Mashhad       6.20       9.0       3.0  8.47   \n",
              "22949  morning  31 January 2020  Mashhad       0.44       1.0      -1.0  1.31   \n",
              "22950   midday  31 January 2020  Mashhad       9.31      13.0       3.0  5.88   \n",
              "22951    night  31 January 2020  Mashhad       7.40      12.0       5.0  7.13   \n",
              "\n",
              "       wind_direction  humidity  barometer  visibility         weather  \n",
              "0                0.00      0.00      66.33     1019.67           Clear  \n",
              "1                2.00     40.00      31.33     1017.33  Passing clouds  \n",
              "2                7.00    280.00      32.00     1018.00            Haze  \n",
              "3                0.00      0.00      67.00     1018.33           Clear  \n",
              "4                0.00      0.00      37.00     1015.00           Sunny  \n",
              "...               ...       ...        ...         ...             ...  \n",
              "22947            8.56    131.25      47.31     1015.50    Partly sunny  \n",
              "22948            8.47    170.67      59.87     1016.33  Passing clouds  \n",
              "22949            1.31     35.62      89.06     1016.25           Clear  \n",
              "22950            5.88     48.12      48.25     1015.44           Sunny  \n",
              "22951            7.13    176.67      48.60     1013.20           Clear  \n",
              "\n",
              "[22952 rows x 12 columns]"
            ],
            "text/html": [
              "\n",
              "  <div id=\"df-248843f7-3079-4e25-be98-cc5c17d4e66f\">\n",
              "    <div class=\"colab-df-container\">\n",
              "      <div>\n",
              "<style scoped>\n",
              "    .dataframe tbody tr th:only-of-type {\n",
              "        vertical-align: middle;\n",
              "    }\n",
              "\n",
              "    .dataframe tbody tr th {\n",
              "        vertical-align: top;\n",
              "    }\n",
              "\n",
              "    .dataframe thead th {\n",
              "        text-align: right;\n",
              "    }\n",
              "</style>\n",
              "<table border=\"1\" class=\"dataframe\">\n",
              "  <thead>\n",
              "    <tr style=\"text-align: right;\">\n",
              "      <th></th>\n",
              "      <th>time</th>\n",
              "      <th>date</th>\n",
              "      <th>city</th>\n",
              "      <th>temp_mean</th>\n",
              "      <th>temp_max</th>\n",
              "      <th>temp_min</th>\n",
              "      <th>wind</th>\n",
              "      <th>wind_direction</th>\n",
              "      <th>humidity</th>\n",
              "      <th>barometer</th>\n",
              "      <th>visibility</th>\n",
              "      <th>weather</th>\n",
              "    </tr>\n",
              "  </thead>\n",
              "  <tbody>\n",
              "    <tr>\n",
              "      <th>0</th>\n",
              "      <td>morning</td>\n",
              "      <td>1 December 2022</td>\n",
              "      <td>Shiraz</td>\n",
              "      <td>6.33</td>\n",
              "      <td>9.0</td>\n",
              "      <td>4.0</td>\n",
              "      <td>0.00</td>\n",
              "      <td>0.00</td>\n",
              "      <td>0.00</td>\n",
              "      <td>66.33</td>\n",
              "      <td>1019.67</td>\n",
              "      <td>Clear</td>\n",
              "    </tr>\n",
              "    <tr>\n",
              "      <th>1</th>\n",
              "      <td>midday</td>\n",
              "      <td>1 December 2022</td>\n",
              "      <td>Shiraz</td>\n",
              "      <td>18.33</td>\n",
              "      <td>21.0</td>\n",
              "      <td>15.0</td>\n",
              "      <td>2.00</td>\n",
              "      <td>2.00</td>\n",
              "      <td>40.00</td>\n",
              "      <td>31.33</td>\n",
              "      <td>1017.33</td>\n",
              "      <td>Passing clouds</td>\n",
              "    </tr>\n",
              "    <tr>\n",
              "      <th>2</th>\n",
              "      <td>night</td>\n",
              "      <td>1 December 2022</td>\n",
              "      <td>Shiraz</td>\n",
              "      <td>17.00</td>\n",
              "      <td>17.0</td>\n",
              "      <td>17.0</td>\n",
              "      <td>7.00</td>\n",
              "      <td>7.00</td>\n",
              "      <td>280.00</td>\n",
              "      <td>32.00</td>\n",
              "      <td>1018.00</td>\n",
              "      <td>Haze</td>\n",
              "    </tr>\n",
              "    <tr>\n",
              "      <th>3</th>\n",
              "      <td>morning</td>\n",
              "      <td>2 December 2022</td>\n",
              "      <td>Shiraz</td>\n",
              "      <td>6.33</td>\n",
              "      <td>9.0</td>\n",
              "      <td>4.0</td>\n",
              "      <td>0.00</td>\n",
              "      <td>0.00</td>\n",
              "      <td>0.00</td>\n",
              "      <td>67.00</td>\n",
              "      <td>1018.33</td>\n",
              "      <td>Clear</td>\n",
              "    </tr>\n",
              "    <tr>\n",
              "      <th>4</th>\n",
              "      <td>midday</td>\n",
              "      <td>2 December 2022</td>\n",
              "      <td>Shiraz</td>\n",
              "      <td>17.33</td>\n",
              "      <td>19.0</td>\n",
              "      <td>14.0</td>\n",
              "      <td>0.00</td>\n",
              "      <td>0.00</td>\n",
              "      <td>0.00</td>\n",
              "      <td>37.00</td>\n",
              "      <td>1015.00</td>\n",
              "      <td>Sunny</td>\n",
              "    </tr>\n",
              "    <tr>\n",
              "      <th>...</th>\n",
              "      <td>...</td>\n",
              "      <td>...</td>\n",
              "      <td>...</td>\n",
              "      <td>...</td>\n",
              "      <td>...</td>\n",
              "      <td>...</td>\n",
              "      <td>...</td>\n",
              "      <td>...</td>\n",
              "      <td>...</td>\n",
              "      <td>...</td>\n",
              "      <td>...</td>\n",
              "      <td>...</td>\n",
              "    </tr>\n",
              "    <tr>\n",
              "      <th>22947</th>\n",
              "      <td>midday</td>\n",
              "      <td>30 January 2020</td>\n",
              "      <td>Mashhad</td>\n",
              "      <td>7.62</td>\n",
              "      <td>10.0</td>\n",
              "      <td>2.0</td>\n",
              "      <td>8.56</td>\n",
              "      <td>8.56</td>\n",
              "      <td>131.25</td>\n",
              "      <td>47.31</td>\n",
              "      <td>1015.50</td>\n",
              "      <td>Partly sunny</td>\n",
              "    </tr>\n",
              "    <tr>\n",
              "      <th>22948</th>\n",
              "      <td>night</td>\n",
              "      <td>30 January 2020</td>\n",
              "      <td>Mashhad</td>\n",
              "      <td>6.20</td>\n",
              "      <td>9.0</td>\n",
              "      <td>3.0</td>\n",
              "      <td>8.47</td>\n",
              "      <td>8.47</td>\n",
              "      <td>170.67</td>\n",
              "      <td>59.87</td>\n",
              "      <td>1016.33</td>\n",
              "      <td>Passing clouds</td>\n",
              "    </tr>\n",
              "    <tr>\n",
              "      <th>22949</th>\n",
              "      <td>morning</td>\n",
              "      <td>31 January 2020</td>\n",
              "      <td>Mashhad</td>\n",
              "      <td>0.44</td>\n",
              "      <td>1.0</td>\n",
              "      <td>-1.0</td>\n",
              "      <td>1.31</td>\n",
              "      <td>1.31</td>\n",
              "      <td>35.62</td>\n",
              "      <td>89.06</td>\n",
              "      <td>1016.25</td>\n",
              "      <td>Clear</td>\n",
              "    </tr>\n",
              "    <tr>\n",
              "      <th>22950</th>\n",
              "      <td>midday</td>\n",
              "      <td>31 January 2020</td>\n",
              "      <td>Mashhad</td>\n",
              "      <td>9.31</td>\n",
              "      <td>13.0</td>\n",
              "      <td>3.0</td>\n",
              "      <td>5.88</td>\n",
              "      <td>5.88</td>\n",
              "      <td>48.12</td>\n",
              "      <td>48.25</td>\n",
              "      <td>1015.44</td>\n",
              "      <td>Sunny</td>\n",
              "    </tr>\n",
              "    <tr>\n",
              "      <th>22951</th>\n",
              "      <td>night</td>\n",
              "      <td>31 January 2020</td>\n",
              "      <td>Mashhad</td>\n",
              "      <td>7.40</td>\n",
              "      <td>12.0</td>\n",
              "      <td>5.0</td>\n",
              "      <td>7.13</td>\n",
              "      <td>7.13</td>\n",
              "      <td>176.67</td>\n",
              "      <td>48.60</td>\n",
              "      <td>1013.20</td>\n",
              "      <td>Clear</td>\n",
              "    </tr>\n",
              "  </tbody>\n",
              "</table>\n",
              "<p>22952 rows × 12 columns</p>\n",
              "</div>\n",
              "      <button class=\"colab-df-convert\" onclick=\"convertToInteractive('df-248843f7-3079-4e25-be98-cc5c17d4e66f')\"\n",
              "              title=\"Convert this dataframe to an interactive table.\"\n",
              "              style=\"display:none;\">\n",
              "        \n",
              "  <svg xmlns=\"http://www.w3.org/2000/svg\" height=\"24px\"viewBox=\"0 0 24 24\"\n",
              "       width=\"24px\">\n",
              "    <path d=\"M0 0h24v24H0V0z\" fill=\"none\"/>\n",
              "    <path d=\"M18.56 5.44l.94 2.06.94-2.06 2.06-.94-2.06-.94-.94-2.06-.94 2.06-2.06.94zm-11 1L8.5 8.5l.94-2.06 2.06-.94-2.06-.94L8.5 2.5l-.94 2.06-2.06.94zm10 10l.94 2.06.94-2.06 2.06-.94-2.06-.94-.94-2.06-.94 2.06-2.06.94z\"/><path d=\"M17.41 7.96l-1.37-1.37c-.4-.4-.92-.59-1.43-.59-.52 0-1.04.2-1.43.59L10.3 9.45l-7.72 7.72c-.78.78-.78 2.05 0 2.83L4 21.41c.39.39.9.59 1.41.59.51 0 1.02-.2 1.41-.59l7.78-7.78 2.81-2.81c.8-.78.8-2.07 0-2.86zM5.41 20L4 18.59l7.72-7.72 1.47 1.35L5.41 20z\"/>\n",
              "  </svg>\n",
              "      </button>\n",
              "      \n",
              "  <style>\n",
              "    .colab-df-container {\n",
              "      display:flex;\n",
              "      flex-wrap:wrap;\n",
              "      gap: 12px;\n",
              "    }\n",
              "\n",
              "    .colab-df-convert {\n",
              "      background-color: #E8F0FE;\n",
              "      border: none;\n",
              "      border-radius: 50%;\n",
              "      cursor: pointer;\n",
              "      display: none;\n",
              "      fill: #1967D2;\n",
              "      height: 32px;\n",
              "      padding: 0 0 0 0;\n",
              "      width: 32px;\n",
              "    }\n",
              "\n",
              "    .colab-df-convert:hover {\n",
              "      background-color: #E2EBFA;\n",
              "      box-shadow: 0px 1px 2px rgba(60, 64, 67, 0.3), 0px 1px 3px 1px rgba(60, 64, 67, 0.15);\n",
              "      fill: #174EA6;\n",
              "    }\n",
              "\n",
              "    [theme=dark] .colab-df-convert {\n",
              "      background-color: #3B4455;\n",
              "      fill: #D2E3FC;\n",
              "    }\n",
              "\n",
              "    [theme=dark] .colab-df-convert:hover {\n",
              "      background-color: #434B5C;\n",
              "      box-shadow: 0px 1px 3px 1px rgba(0, 0, 0, 0.15);\n",
              "      filter: drop-shadow(0px 1px 2px rgba(0, 0, 0, 0.3));\n",
              "      fill: #FFFFFF;\n",
              "    }\n",
              "  </style>\n",
              "\n",
              "      <script>\n",
              "        const buttonEl =\n",
              "          document.querySelector('#df-248843f7-3079-4e25-be98-cc5c17d4e66f button.colab-df-convert');\n",
              "        buttonEl.style.display =\n",
              "          google.colab.kernel.accessAllowed ? 'block' : 'none';\n",
              "\n",
              "        async function convertToInteractive(key) {\n",
              "          const element = document.querySelector('#df-248843f7-3079-4e25-be98-cc5c17d4e66f');\n",
              "          const dataTable =\n",
              "            await google.colab.kernel.invokeFunction('convertToInteractive',\n",
              "                                                     [key], {});\n",
              "          if (!dataTable) return;\n",
              "\n",
              "          const docLinkHtml = 'Like what you see? Visit the ' +\n",
              "            '<a target=\"_blank\" href=https://colab.research.google.com/notebooks/data_table.ipynb>data table notebook</a>'\n",
              "            + ' to learn more about interactive tables.';\n",
              "          element.innerHTML = '';\n",
              "          dataTable['output_type'] = 'display_data';\n",
              "          await google.colab.output.renderOutput(dataTable, element);\n",
              "          const docLink = document.createElement('div');\n",
              "          docLink.innerHTML = docLinkHtml;\n",
              "          element.appendChild(docLink);\n",
              "        }\n",
              "      </script>\n",
              "    </div>\n",
              "  </div>\n",
              "  "
            ]
          },
          "metadata": {},
          "execution_count": 12
        }
      ]
    },
    {
      "cell_type": "code",
      "source": [
        "weather.date"
      ],
      "metadata": {
        "colab": {
          "base_uri": "https://localhost:8080/"
        },
        "id": "xoMZ58pXnUk_",
        "outputId": "a5ff83da-7207-4d11-839a-2a0a14c93470"
      },
      "execution_count": 36,
      "outputs": [
        {
          "output_type": "execute_result",
          "data": {
            "text/plain": [
              "0       2022-12-01\n",
              "1       2022-12-01\n",
              "2       2022-12-01\n",
              "3       2022-12-02\n",
              "4       2022-12-02\n",
              "           ...    \n",
              "22947   2020-01-30\n",
              "22948   2020-01-30\n",
              "22949   2020-01-31\n",
              "22950   2020-01-31\n",
              "22951   2020-01-31\n",
              "Name: date, Length: 22657, dtype: datetime64[ns]"
            ]
          },
          "metadata": {},
          "execution_count": 36
        }
      ]
    },
    {
      "cell_type": "code",
      "source": [
        "# Convert datatypes\n",
        "weather.time = weather.time.astype('category')\n",
        "weather.date = pd.to_datetime(weather.date)\n",
        "weather.city = weather.city.astype('category')\n",
        "weather.weather = weather.weather.astype('category')"
      ],
      "metadata": {
        "id": "ZXU2FiibnX-n"
      },
      "execution_count": 14,
      "outputs": []
    },
    {
      "cell_type": "code",
      "source": [
        "# Clean data \n",
        "weather.weather = weather.weather.apply(lambda x: x.strip())"
      ],
      "metadata": {
        "id": "UjYhhR7olwZs"
      },
      "execution_count": 15,
      "outputs": []
    },
    {
      "cell_type": "code",
      "source": [
        "# Handle NAN\n",
        "weather[weather.isna().any(axis = 1)]"
      ],
      "metadata": {
        "id": "gY10nsfGt3XW",
        "colab": {
          "base_uri": "https://localhost:8080/",
          "height": 113
        },
        "outputId": "2f0fd1fa-c17f-43e0-9818-83da0857dbb8"
      },
      "execution_count": 30,
      "outputs": [
        {
          "output_type": "execute_result",
          "data": {
            "text/plain": [
              "Empty DataFrame\n",
              "Columns: [time, date, city, temp_mean, temp_max, temp_min, wind, wind_direction, humidity, barometer, visibility, weather]\n",
              "Index: []"
            ],
            "text/html": [
              "\n",
              "  <div id=\"df-88cd18b1-a1f9-4083-8143-cf289eab43a5\">\n",
              "    <div class=\"colab-df-container\">\n",
              "      <div>\n",
              "<style scoped>\n",
              "    .dataframe tbody tr th:only-of-type {\n",
              "        vertical-align: middle;\n",
              "    }\n",
              "\n",
              "    .dataframe tbody tr th {\n",
              "        vertical-align: top;\n",
              "    }\n",
              "\n",
              "    .dataframe thead th {\n",
              "        text-align: right;\n",
              "    }\n",
              "</style>\n",
              "<table border=\"1\" class=\"dataframe\">\n",
              "  <thead>\n",
              "    <tr style=\"text-align: right;\">\n",
              "      <th></th>\n",
              "      <th>time</th>\n",
              "      <th>date</th>\n",
              "      <th>city</th>\n",
              "      <th>temp_mean</th>\n",
              "      <th>temp_max</th>\n",
              "      <th>temp_min</th>\n",
              "      <th>wind</th>\n",
              "      <th>wind_direction</th>\n",
              "      <th>humidity</th>\n",
              "      <th>barometer</th>\n",
              "      <th>visibility</th>\n",
              "      <th>weather</th>\n",
              "    </tr>\n",
              "  </thead>\n",
              "  <tbody>\n",
              "  </tbody>\n",
              "</table>\n",
              "</div>\n",
              "      <button class=\"colab-df-convert\" onclick=\"convertToInteractive('df-88cd18b1-a1f9-4083-8143-cf289eab43a5')\"\n",
              "              title=\"Convert this dataframe to an interactive table.\"\n",
              "              style=\"display:none;\">\n",
              "        \n",
              "  <svg xmlns=\"http://www.w3.org/2000/svg\" height=\"24px\"viewBox=\"0 0 24 24\"\n",
              "       width=\"24px\">\n",
              "    <path d=\"M0 0h24v24H0V0z\" fill=\"none\"/>\n",
              "    <path d=\"M18.56 5.44l.94 2.06.94-2.06 2.06-.94-2.06-.94-.94-2.06-.94 2.06-2.06.94zm-11 1L8.5 8.5l.94-2.06 2.06-.94-2.06-.94L8.5 2.5l-.94 2.06-2.06.94zm10 10l.94 2.06.94-2.06 2.06-.94-2.06-.94-.94-2.06-.94 2.06-2.06.94z\"/><path d=\"M17.41 7.96l-1.37-1.37c-.4-.4-.92-.59-1.43-.59-.52 0-1.04.2-1.43.59L10.3 9.45l-7.72 7.72c-.78.78-.78 2.05 0 2.83L4 21.41c.39.39.9.59 1.41.59.51 0 1.02-.2 1.41-.59l7.78-7.78 2.81-2.81c.8-.78.8-2.07 0-2.86zM5.41 20L4 18.59l7.72-7.72 1.47 1.35L5.41 20z\"/>\n",
              "  </svg>\n",
              "      </button>\n",
              "      \n",
              "  <style>\n",
              "    .colab-df-container {\n",
              "      display:flex;\n",
              "      flex-wrap:wrap;\n",
              "      gap: 12px;\n",
              "    }\n",
              "\n",
              "    .colab-df-convert {\n",
              "      background-color: #E8F0FE;\n",
              "      border: none;\n",
              "      border-radius: 50%;\n",
              "      cursor: pointer;\n",
              "      display: none;\n",
              "      fill: #1967D2;\n",
              "      height: 32px;\n",
              "      padding: 0 0 0 0;\n",
              "      width: 32px;\n",
              "    }\n",
              "\n",
              "    .colab-df-convert:hover {\n",
              "      background-color: #E2EBFA;\n",
              "      box-shadow: 0px 1px 2px rgba(60, 64, 67, 0.3), 0px 1px 3px 1px rgba(60, 64, 67, 0.15);\n",
              "      fill: #174EA6;\n",
              "    }\n",
              "\n",
              "    [theme=dark] .colab-df-convert {\n",
              "      background-color: #3B4455;\n",
              "      fill: #D2E3FC;\n",
              "    }\n",
              "\n",
              "    [theme=dark] .colab-df-convert:hover {\n",
              "      background-color: #434B5C;\n",
              "      box-shadow: 0px 1px 3px 1px rgba(0, 0, 0, 0.15);\n",
              "      filter: drop-shadow(0px 1px 2px rgba(0, 0, 0, 0.3));\n",
              "      fill: #FFFFFF;\n",
              "    }\n",
              "  </style>\n",
              "\n",
              "      <script>\n",
              "        const buttonEl =\n",
              "          document.querySelector('#df-88cd18b1-a1f9-4083-8143-cf289eab43a5 button.colab-df-convert');\n",
              "        buttonEl.style.display =\n",
              "          google.colab.kernel.accessAllowed ? 'block' : 'none';\n",
              "\n",
              "        async function convertToInteractive(key) {\n",
              "          const element = document.querySelector('#df-88cd18b1-a1f9-4083-8143-cf289eab43a5');\n",
              "          const dataTable =\n",
              "            await google.colab.kernel.invokeFunction('convertToInteractive',\n",
              "                                                     [key], {});\n",
              "          if (!dataTable) return;\n",
              "\n",
              "          const docLinkHtml = 'Like what you see? Visit the ' +\n",
              "            '<a target=\"_blank\" href=https://colab.research.google.com/notebooks/data_table.ipynb>data table notebook</a>'\n",
              "            + ' to learn more about interactive tables.';\n",
              "          element.innerHTML = '';\n",
              "          dataTable['output_type'] = 'display_data';\n",
              "          await google.colab.output.renderOutput(dataTable, element);\n",
              "          const docLink = document.createElement('div');\n",
              "          docLink.innerHTML = docLinkHtml;\n",
              "          element.appendChild(docLink);\n",
              "        }\n",
              "      </script>\n",
              "    </div>\n",
              "  </div>\n",
              "  "
            ]
          },
          "metadata": {},
          "execution_count": 30
        }
      ]
    },
    {
      "cell_type": "code",
      "source": [
        "weather.dropna(inplace = True)"
      ],
      "metadata": {
        "id": "ioPpzxFBPeR9"
      },
      "execution_count": 29,
      "outputs": []
    },
    {
      "cell_type": "code",
      "source": [
        "dict_weather = {\n",
        "   'Scattered clouds' : 'Cloudy',\n",
        "   'Overcast': 'Cloudy',\n",
        "   'Broken clouds': 'Cloudy',\n",
        "   'Mostly cloudy':'Cloudy',\n",
        "   'More clouds than sun':'Cloudy',\n",
        "   'Passing clouds' : 'Cloudy',\n",
        "   'Partly sunny' : 'Sunny',\n",
        "   'Haze':'Fog',\n",
        "   'Ice fog' : 'Fog',\n",
        "   'Light rain' : 'Rain',\n",
        "   'Light snow' : 'Snow',\n",
        "   'Scattered showers' : 'Rain',\n",
        "   'Duststorm' : 'Storm',\n",
        "   'Sandstorm' : 'Storm',\n",
        "   'Sprinkles' : 'Rain',\n",
        "   'Low clouds' : 'Cloudy',\n",
        "    'Thunderstorms': 'Thunder',\n",
        "    'Thundershowers' : 'Thunder',\n",
        "    'Dense fog' : 'Fog',\n",
        "    'Drizzle' : 'Rain',\n",
        "    'Low level haze' : 'Fog',\n",
        "    'Snow flurries' : 'Snow',    \n",
        "    'Light mixture of precip' : 'Snow',\n",
        "    'Light freezing rain' : 'Rain',\n",
        "    'Rain showers' : 'Rain',\n",
        "    'Heavy snow': 'Snow'\n",
        "}\n",
        "\n"
      ],
      "metadata": {
        "id": "87nfGeUK8GWj"
      },
      "execution_count": 37,
      "outputs": []
    },
    {
      "cell_type": "code",
      "source": [
        "def clean_target(x):\n",
        "  if x in dict_weather.keys():\n",
        "    return dict_weather[x]\n",
        "  else:\n",
        "    return x\n",
        "\n",
        "weather.weather = weather.weather.apply(clean_target)"
      ],
      "metadata": {
        "id": "_j4YlhPp2ke8"
      },
      "execution_count": 38,
      "outputs": []
    },
    {
      "cell_type": "code",
      "source": [
        "pd.set_option('display.max_rows', 500)\n",
        "weather.weather.value_counts()"
      ],
      "metadata": {
        "colab": {
          "base_uri": "https://localhost:8080/"
        },
        "id": "p8lMvuv70O-m",
        "outputId": "e07ee93f-ce27-42f3-95fc-d2ea08ec438e"
      },
      "execution_count": 39,
      "outputs": [
        {
          "output_type": "execute_result",
          "data": {
            "text/plain": [
              "Cloudy           8317\n",
              "Clear            7283\n",
              "Sunny            5034\n",
              "Fog              1383\n",
              "Partly cloudy     253\n",
              "Rain              230\n",
              "Storm              71\n",
              "Snow               54\n",
              "Thunder            32\n",
              "Name: weather, dtype: int64"
            ]
          },
          "metadata": {},
          "execution_count": 39
        }
      ]
    },
    {
      "cell_type": "code",
      "source": [],
      "metadata": {
        "id": "bSICrgvIw_Fo"
      },
      "execution_count": 39,
      "outputs": []
    },
    {
      "cell_type": "code",
      "source": [],
      "metadata": {
        "id": "GoRwP2rgNjVZ"
      },
      "execution_count": 40,
      "outputs": []
    },
    {
      "cell_type": "code",
      "source": [
        "weather.to_csv('clean_weather.csv', index = False)"
      ],
      "metadata": {
        "id": "QI2qlGGO5Wtg"
      },
      "execution_count": 41,
      "outputs": []
    },
    {
      "cell_type": "code",
      "source": [
        "plt.figure(figsize=(13,10))\n",
        "sns.histplot(data = weather , y = 'weather')\n",
        "plt.title('Hostogram weather')\n"
      ],
      "metadata": {
        "colab": {
          "base_uri": "https://localhost:8080/",
          "height": 628
        },
        "id": "ODzzEuFEVcfc",
        "outputId": "dfd3c847-f2c5-46fe-cf07-d717605e6995"
      },
      "execution_count": 42,
      "outputs": [
        {
          "output_type": "execute_result",
          "data": {
            "text/plain": [
              "Text(0.5, 1.0, 'Hostogram weather')"
            ]
          },
          "metadata": {},
          "execution_count": 42
        },
        {
          "output_type": "display_data",
          "data": {
            "text/plain": [
              "<Figure size 936x720 with 1 Axes>"
            ],
            "image/png": "[encoded data removed]"
          },
          "metadata": {
            "needs_background": "light"
          }
        }
      ]
    },
    {
      "cell_type": "markdown",
      "source": [
        "# Exploratory Analysis"
      ],
      "metadata": {
        "id": "OggIJ07n0k0p"
      }
    },
    {
      "cell_type": "code",
      "source": [],
      "metadata": {
        "id": "mE3ENkmJyr-I"
      },
      "execution_count": null,
      "outputs": []
    },
    {
      "cell_type": "markdown",
      "source": [
        "# Reduction dimension"
      ],
      "metadata": {
        "id": "dGJqVa9C02xG"
      }
    },
    {
      "cell_type": "code",
      "source": [],
      "metadata": {
        "id": "hewQsAlb07X6"
      },
      "execution_count": null,
      "outputs": []
    },
    {
      "cell_type": "markdown",
      "source": [
        "# Classification"
      ],
      "metadata": {
        "id": "EsJzhjcJ08Yd"
      }
    },
    {
      "cell_type": "code",
      "source": [],
      "metadata": {
        "id": "D4r-yZ041IZb"
      },
      "execution_count": null,
      "outputs": []
    }
  ]
}